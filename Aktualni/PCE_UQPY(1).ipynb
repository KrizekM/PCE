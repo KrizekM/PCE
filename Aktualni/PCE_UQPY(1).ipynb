{
 "cells": [
  {
   "cell_type": "markdown",
   "id": "da4a135f-3aac-4886-b2da-fa972f4134ac",
   "metadata": {},
   "source": [
    "## **Pomocne moduly**"
   ]
  },
  {
   "cell_type": "markdown",
   "id": "90794480-3fb3-4aca-b003-820cfd708c87",
   "metadata": {},
   "source": [
    "Generování multiindexových množin"
   ]
  },
  {
   "cell_type": "code",
   "execution_count": 134,
   "id": "d2587a6d-7ffb-4cd9-af3b-02e4c3d295b7",
   "metadata": {
    "jupyter": {
     "source_hidden": true
    }
   },
   "outputs": [],
   "source": [
    "import itertools\n",
    "import math\n",
    "import numpy as np\n",
    "from scipy.special import comb\n",
    "\n",
    "def setsize(N, w):\n",
    "    return int(comb(N+w-1, N-1))    \n",
    "\n",
    "def td_set_recursive(N, w, rows):\n",
    "    if N == 1:\n",
    "        subset = w*np.ones([rows, 1])\n",
    "    else:\n",
    "        if w == 0:\n",
    "            subset = np.zeros([rows, N])\n",
    "        elif w == 1:\n",
    "            subset = np.eye(N)\n",
    "        else:\n",
    "            subset = np.empty([rows, N])\n",
    "            row_start = 0\n",
    "            for k in range(0, w+1):\n",
    "                sub_rows = setsize(N-1, w-k)\n",
    "                row_end = row_start + sub_rows - 1\n",
    "                subset[row_start:row_end+1, 0] = k*np.ones(sub_rows)\n",
    "                subset[row_start:row_end+1, 1:] = td_set_recursive(N-1, w-k, sub_rows)\n",
    "                row_start = row_end + 1\n",
    "    return subset\n",
    "\n",
    "def td_multiindex_set(N, w):\n",
    "    td_size = int(comb(N+w, N))\n",
    "    midx_set = np.empty([td_size, N])\n",
    "    row_start = 0\n",
    "    for i in range(0, w+1):\n",
    "        rows = setsize(N, i)\n",
    "        row_end = rows + row_start - 1\n",
    "        midx_set[row_start:row_end+1, :] = td_set_recursive(N, i, rows)\n",
    "        row_start = row_end + 1\n",
    "    return midx_set.astype(int)\n",
    "\n",
    "def tp_multiindex_set(N, w):\n",
    "    orders = np.arange(0, w+1, 1).tolist()\n",
    "    if N == 1:\n",
    "        midx_set = np.array(list(map(lambda el:[el], orders)))\n",
    "    else:\n",
    "        midx = list(itertools.product(orders, repeat=N))\n",
    "        midx = [list(elem) for elem in midx]\n",
    "        midx_sums = [int(math.fsum(midx[i])) for i in range(len(midx))]\n",
    "        midx_sorted = sorted(range(len(midx_sums)), key=lambda k: midx_sums[k])\n",
    "        midx_set = np.array([midx[midx_sorted[i]] for i in range(len(midx))])   \n",
    "    return midx_set.astype(int)"
   ]
  },
  {
   "cell_type": "code",
   "execution_count": 136,
   "id": "e30d3634-0795-4479-abba-078c14180ce3",
   "metadata": {},
   "outputs": [],
   "source": [
    "import numpy as np\n",
    "\n",
    "def admissible_neighbors(index, index_set):\n",
    "    for_neighbors = forward_neighbors(index)\n",
    "    for_truefalse = [is_admissible(fn, index_set) for fn in for_neighbors]\n",
    "    adm_neighbors = np.array(for_neighbors)[for_truefalse].tolist()\n",
    "    return adm_neighbors\n",
    "\n",
    "def is_admissible(index, index_set):\n",
    "    back_neighbors = backward_neighbors(index)\n",
    "    for ind_b in back_neighbors:\n",
    "        if ind_b not in index_set:\n",
    "            return False\n",
    "    return True\n",
    "\n",
    "def forward_neighbors(index):\n",
    "    N = len(index)\n",
    "    for_neighbors = []\n",
    "    for i in range(N):\n",
    "        index_tmp = index[:]\n",
    "        index_tmp[i] = index_tmp[i] + 1\n",
    "        for_neighbors.append(index_tmp)\n",
    "    return for_neighbors\n",
    "\n",
    "def backward_neighbors(index):\n",
    "    N = len(index)\n",
    "    back_neighbors = []\n",
    "    for i in range(N):\n",
    "        index_tmp = index[:]\n",
    "        if index_tmp[i] > 0:\n",
    "            index_tmp[i] = index_tmp[i] - 1\n",
    "            back_neighbors.append(index_tmp)\n",
    "    return back_neighbors\n"
   ]
  },
  {
   "cell_type": "code",
   "execution_count": 138,
   "id": "a659ef37-84e3-4afa-b100-df69904b0d4e",
   "metadata": {
    "collapsed": true,
    "jupyter": {
     "outputs_hidden": true
    }
   },
   "outputs": [
    {
     "name": "stdout",
     "output_type": "stream",
     "text": [
      "Requirement already satisfied: UQpy in c:\\users\\trago\\anaconda3\\lib\\site-packages (4.1.6)\n",
      "Requirement already satisfied: numpy in c:\\users\\trago\\anaconda3\\lib\\site-packages (from UQpy) (1.26.4)\n",
      "Requirement already satisfied: scipy>=1.6.0 in c:\\users\\trago\\anaconda3\\lib\\site-packages (from UQpy) (1.13.1)\n",
      "Requirement already satisfied: matplotlib in c:\\users\\trago\\anaconda3\\lib\\site-packages (from UQpy) (3.9.2)\n",
      "Requirement already satisfied: scikit-learn in c:\\users\\trago\\anaconda3\\lib\\site-packages (from UQpy) (1.5.1)\n",
      "Requirement already satisfied: fire in c:\\users\\trago\\anaconda3\\lib\\site-packages (from UQpy) (0.7.0)\n",
      "Requirement already satisfied: beartype==0.18.5 in c:\\users\\trago\\anaconda3\\lib\\site-packages (from UQpy) (0.18.5)\n",
      "Requirement already satisfied: termcolor in c:\\users\\trago\\anaconda3\\lib\\site-packages (from fire->UQpy) (2.5.0)\n",
      "Requirement already satisfied: contourpy>=1.0.1 in c:\\users\\trago\\anaconda3\\lib\\site-packages (from matplotlib->UQpy) (1.2.0)\n",
      "Requirement already satisfied: cycler>=0.10 in c:\\users\\trago\\anaconda3\\lib\\site-packages (from matplotlib->UQpy) (0.11.0)\n",
      "Requirement already satisfied: fonttools>=4.22.0 in c:\\users\\trago\\anaconda3\\lib\\site-packages (from matplotlib->UQpy) (4.51.0)\n",
      "Requirement already satisfied: kiwisolver>=1.3.1 in c:\\users\\trago\\anaconda3\\lib\\site-packages (from matplotlib->UQpy) (1.4.4)\n",
      "Requirement already satisfied: packaging>=20.0 in c:\\users\\trago\\anaconda3\\lib\\site-packages (from matplotlib->UQpy) (24.1)\n",
      "Requirement already satisfied: pillow>=8 in c:\\users\\trago\\anaconda3\\lib\\site-packages (from matplotlib->UQpy) (10.4.0)\n",
      "Requirement already satisfied: pyparsing>=2.3.1 in c:\\users\\trago\\anaconda3\\lib\\site-packages (from matplotlib->UQpy) (3.1.2)\n",
      "Requirement already satisfied: python-dateutil>=2.7 in c:\\users\\trago\\anaconda3\\lib\\site-packages (from matplotlib->UQpy) (2.9.0.post0)\n",
      "Requirement already satisfied: joblib>=1.2.0 in c:\\users\\trago\\anaconda3\\lib\\site-packages (from scikit-learn->UQpy) (1.4.2)\n",
      "Requirement already satisfied: threadpoolctl>=3.1.0 in c:\\users\\trago\\anaconda3\\lib\\site-packages (from scikit-learn->UQpy) (3.5.0)\n",
      "Requirement already satisfied: six>=1.5 in c:\\users\\trago\\anaconda3\\lib\\site-packages (from python-dateutil>=2.7->matplotlib->UQpy) (1.16.0)\n"
     ]
    }
   ],
   "source": [
    "!pip install UQpy"
   ]
  },
  {
   "cell_type": "markdown",
   "id": "bf2d2c81-956d-4612-aecc-96c2ec205d53",
   "metadata": {},
   "source": [
    "## **PCE**"
   ]
  },
  {
   "cell_type": "code",
   "execution_count": 140,
   "id": "e7a8618a-aff2-4e48-ab30-637ca55de33e",
   "metadata": {
    "jupyter": {
     "source_hidden": true
    },
    "scrolled": true
   },
   "outputs": [],
   "source": [
    "\n",
    "import openturns as ot \n",
    "\n",
    "import numpy as np\n",
    "from UQpy.surrogates import *\n",
    "from UQpy.distributions import Uniform, JointIndependent\n",
    "from UQpy.sensitivity import PceSensitivity\n",
    "\n",
    "class PolynomialChaosExpansionUQPY:\n",
    "    def __init__(self, pdf, exp_design_in, exp_design_out, degree=4):\n",
    "        self.pdf = pdf if pdf is not None else JointIndependent([Uniform(0, 1) for _ in range(exp_design_in.shape[1])])\n",
    "        self.num_inputs = exp_design_in.shape[1]\n",
    "        self.num_outputs = exp_design_out.shape[1]\n",
    "        self.num_samples = exp_design_out.shape[0]\n",
    "        self.exp_design_inputs = exp_design_in\n",
    "        self.exp_design_outputs = exp_design_out\n",
    "        \n",
    "        self.polynomial_basis = TotalDegreeBasis(self.pdf, degree)\n",
    "        self.regression_method = LeastSquareRegression()\n",
    "        \n",
    "        # Vytvoření PCE\n",
    "        self.pce = PolynomialChaosExpansion(\n",
    "            polynomial_basis=self.polynomial_basis,\n",
    "            regression_method=self.regression_method\n",
    "        )\n",
    "        self.pce.fit(exp_design_in, exp_design_out)\n",
    "    \n",
    "    def predict(self, design_in):\n",
    "        return self.pce.predict(design_in)\n",
    "        \n",
    "    def compute_mean(self):\n",
    "        mean_value, _ = self.pce.get_moments(higher=False)\n",
    "        return mean_value\n",
    "    \n",
    "    def compute_variance(self):\n",
    "        _, variance_value = self.pce.get_moments(higher=False)\n",
    "        return variance_value\n",
    "    \n",
    "    def compute_sobol_first(self):\n",
    "        sensitivity = PceSensitivity(self.pce)\n",
    "        sensitivity.run()\n",
    "        return sensitivity.first_order_indices\n",
    "    \n",
    "    def compute_sobol_total(self):\n",
    "        sensitivity = PceSensitivity(self.pce)\n",
    "        sensitivity.run()\n",
    "        return sensitivity.total_order_indices\n",
    "\n",
    "    # Vypočet čísla podmíněnosti matice návrhu, nutné udělat kvuli tomu že jsem zrušil open turns\n",
    "    def get_condition_number(self):\n",
    "        design_matrix = self._compute_design_matrix(self.exp_design_inputs)\n",
    "        if design_matrix is not None:\n",
    "            return np.linalg.cond(design_matrix)  # Výpočet podmíněnosti\n",
    "        else:\n",
    "            raise ValueError(\"Design matrix could not be computed.\")\n",
    "\n",
    "    def _compute_design_matrix(self, inputs):\n",
    "        num_samples = inputs.shape[0]\n",
    "        num_basis = len(self.polynomial_basis.polynomials)\n",
    "        design_matrix = np.zeros((num_samples, num_basis))\n",
    "        \n",
    "        for i in range(num_samples):\n",
    "            for j in range(num_basis):\n",
    "                design_matrix[i, j] = self.polynomial_basis.polynomials[j].evaluate(inputs[i])\n",
    "        \n",
    "        return design_matrix\n",
    "\n",
    "    def print_design_matrix(self):\n",
    "        design_matrix = self._compute_design_matrix(self.exp_design_inputs)\n",
    "        print(\"\\nMatice návrhu (design_matrix):\")\n",
    "        print(design_matrix)"
   ]
  },
  {
   "cell_type": "code",
   "execution_count": 141,
   "id": "6064dcea-7775-455e-bffb-309ae76d378a",
   "metadata": {
    "jupyter": {
     "source_hidden": true
    }
   },
   "outputs": [
    {
     "data": {
      "text/plain": [
       "'\\nnum_samples = 500\\nmarginals = [Uniform(0, 5), Uniform(0, 2)] \\ninput_distribution = JointIndependent(marginals)\\ninput_sample = input_distribution.rvs(num_samples)\\nprint(\"Generovaná vstupní data:\")\\nprint(input_sample)\\n\\ndef test_function(X):\\n    x1, x2 = X[:, 0], X[:, 1]\\n    return np.expand_dims(2*x1 + 3*x2**2, axis=1)\\n\\noutput_sample = test_function(input_sample)\\n\\npce_uqpy = PolynomialChaosExpansionUQPY(input_distribution, input_sample, output_sample)\\n\\ntest_inputs = input_distribution.rvs(10)\\npredictions = pce_uqpy.predict(test_inputs)\\n\\nmean_value = pce_uqpy.compute_mean()\\nvariance_value = pce_uqpy.compute_variance()\\n\\nsobol_first = pce_uqpy.compute_sobol_first()\\nsobol_total = pce_uqpy.compute_sobol_total()\\n\\nprint(\"První řád Sobolových indexů:\")\\nprint(sobol_first)\\nprint(\"Celkové Sobolovy indexy:\")\\nprint(sobol_total)\\nprint(\"Střední hodnota modelu:\")\\nprint(mean_value)\\nprint(\"Rozptyl modelu:\")\\nprint(variance_value)\\n\\ntrue_outputs = test_function(test_inputs)\\nprint(\"Skutečné hodnoty vs Predikované hodnoty:\")\\nfor i in range(len(test_inputs)):\\n    print(f\"Vstupy: {test_inputs[i]}, Skutečná hodnota: {true_outputs[i][0]}, Predikovaná hodnota: {predictions[i][0]}\")\\n    \\n'"
      ]
     },
     "execution_count": 141,
     "metadata": {},
     "output_type": "execute_result"
    }
   ],
   "source": [
    "# Testuje samotné PCE\n",
    "\"\"\"\n",
    "num_samples = 500\n",
    "marginals = [Uniform(0, 5), Uniform(0, 2)] \n",
    "input_distribution = JointIndependent(marginals)\n",
    "input_sample = input_distribution.rvs(num_samples)\n",
    "print(\"Generovaná vstupní data:\")\n",
    "print(input_sample)\n",
    "\n",
    "def test_function(X):\n",
    "    x1, x2 = X[:, 0], X[:, 1]\n",
    "    return np.expand_dims(2*x1 + 3*x2**2, axis=1)\n",
    "\n",
    "output_sample = test_function(input_sample)\n",
    "\n",
    "pce_uqpy = PolynomialChaosExpansionUQPY(input_distribution, input_sample, output_sample)\n",
    "\n",
    "test_inputs = input_distribution.rvs(10)\n",
    "predictions = pce_uqpy.predict(test_inputs)\n",
    "\n",
    "mean_value = pce_uqpy.compute_mean()\n",
    "variance_value = pce_uqpy.compute_variance()\n",
    "\n",
    "sobol_first = pce_uqpy.compute_sobol_first()\n",
    "sobol_total = pce_uqpy.compute_sobol_total()\n",
    "\n",
    "print(\"První řád Sobolových indexů:\")\n",
    "print(sobol_first)\n",
    "print(\"Celkové Sobolovy indexy:\")\n",
    "print(sobol_total)\n",
    "print(\"Střední hodnota modelu:\")\n",
    "print(mean_value)\n",
    "print(\"Rozptyl modelu:\")\n",
    "print(variance_value)\n",
    "\n",
    "true_outputs = test_function(test_inputs)\n",
    "print(\"Skutečné hodnoty vs Predikované hodnoty:\")\n",
    "for i in range(len(test_inputs)):\n",
    "    print(f\"Vstupy: {test_inputs[i]}, Skutečná hodnota: {true_outputs[i][0]}, Predikovaná hodnota: {predictions[i][0]}\")\n",
    "    \n",
    "\"\"\""
   ]
  },
  {
   "cell_type": "markdown",
   "id": "af1ddf32-131c-4977-8a0b-2cb0322bc6f9",
   "metadata": {},
   "source": [
    "## **SAPCE**"
   ]
  },
  {
   "cell_type": "code",
   "execution_count": 121,
   "id": "31690d6d-c48e-48e4-aea5-3a3ab58efdfa",
   "metadata": {
    "jupyter": {
     "source_hidden": true
    }
   },
   "outputs": [],
   "source": [
    "class SensitivityAdaptivePCE:\n",
    "    def __init__(self, pdf, exp_design_in, exp_design_out, max_partial_degree=10):\n",
    "        if pdf is None:\n",
    "            chaos_algo_data = ot.FunctionalChaosAlgorithm(exp_design_in, exp_design_out)\n",
    "            chaos_algo_data.run()\n",
    "            self.pdf = chaos_algo_data.getDistribution()\n",
    "        else:    \n",
    "            self.pdf = pdf\n",
    "        \n",
    "        self.exp_design_in = exp_design_in\n",
    "        self.exp_design_out = exp_design_out\n",
    "        self.max_partial_degree = max_partial_degree\n",
    "        \n",
    "        num_inputs = self.pdf.getDimension()\n",
    "        td1_set = td_multiindex_set(num_inputs, 1).tolist()\n",
    "        self.pce = PolynomialChaosExpansion(self.pdf, self.exp_design_in, self.exp_design_out)\n",
    "        self.pce.set_multi_index_set(td1_set)\n",
    "        self.pce.construct_basis()\n",
    "        self.pce.compute_coefficients()\n",
    "        \n",
    "        self.active_multi_indices = [self.pce.multi_index_set[0]]\n",
    "        self.admissible_multi_indices = self.pce.multi_index_set[1:]\n",
    "        \n",
    "        admissible_coefficients = self.pce.coefficients[1:].tolist()\n",
    "        aggregated_admissible_coefficients = np.sum(np.abs(admissible_coefficients), axis=1)\n",
    "        \n",
    "        help_index = np.argmax(aggregated_admissible_coefficients)\n",
    "        max_admissible_multi_index = self.admissible_multi_indices.pop(help_index)\n",
    "        self.active_multi_indices.append(max_admissible_multi_index)\n",
    "\n",
    "    # Odtud převzato (zde uděláno): Vypočet čísla podmíněnosti matice návrhu. \n",
    "\n",
    "\n"
   ]
  },
  {
   "cell_type": "code",
   "execution_count": 148,
   "id": "7a518809-74eb-4acb-b53c-f7289d5bc463",
   "metadata": {
    "collapsed": true,
    "jupyter": {
     "outputs_hidden": true,
     "source_hidden": true
    },
    "scrolled": true
   },
   "outputs": [
    {
     "name": "stdout",
     "output_type": "stream",
     "text": [
      "\n",
      "Matice návrhu (design_matrix):\n",
      "[[ 1.          0.65798531 -1.50495517 ... -0.89657832  1.72318934\n",
      "  -0.22519091]\n",
      " [ 1.         -1.6305231  -1.11516001 ...  0.50500776  1.98730711\n",
      "   1.46299681]\n",
      " [ 1.          1.33511847 -0.56526197 ... -0.66562857  0.01677213\n",
      "  -0.92574352]\n",
      " ...\n",
      " [ 1.          0.13021239 -0.39292812 ...  1.03908749  0.11612743\n",
      "   1.06183699]\n",
      " [ 1.         -0.80683348  1.4861009  ... -0.52723615  1.75374661\n",
      "  -0.69817033]\n",
      " [ 1.          0.64119057 -1.31396181 ... -0.53476858  1.48949849\n",
      "  -0.17022665]]\n",
      "\n",
      "Podmíněnost matice: 3.1847886873317988\n",
      "\n",
      "Střední hodnota PCE (automaticky): 1.0\n",
      "\n",
      "Rozptyl PCE: 0.16666666666666669\n",
      "\n",
      "První Sobolovy indexy: [[0.5]\n",
      " [0.5]]\n",
      "\n",
      "Celkové Sobolovy indexy: [[0.5]\n",
      " [0.5]]\n",
      "\n",
      "Porovnání skutečných a predikovaných hodnot:\n",
      "Vstupy: [0.689944   0.06555686], Skutečná hodnota: 0.755500861096648, Predikovaná hodnota: 0.7555008610966505\n",
      "Vstupy: [0.02930853 0.17808103], Skutečná hodnota: 0.20738956006793963, Predikovaná hodnota: 0.20738956006794101\n",
      "Vstupy: [0.8854155  0.33682292], Skutečná hodnota: 1.222238426167581, Predikovaná hodnota: 1.2222384261675816\n",
      "Vstupy: [0.66567109 0.25206611], Skutečná hodnota: 0.9177372035362537, Predikovaná hodnota: 0.9177372035362543\n",
      "Vstupy: [0.79262588 0.05289714], Skutečná hodnota: 0.8455230193694903, Predikovaná hodnota: 0.8455230193694933\n",
      "\n",
      "PROGRAM PROŠEL celý.\n"
     ]
    }
   ],
   "source": [
    "def generate_test_data(num_samples=100, num_inputs=2):\n",
    "\n",
    "    # Vstupní data: rovnoměrné rozdělení v rozsahu [0, 1]\n",
    "    input_distribution = ot.ComposedDistribution([ot.Uniform(0, 1)] * num_inputs)\n",
    "    exp_design_in = np.array(input_distribution.getSample(num_samples))\n",
    "    exp_design_out = np.sum(exp_design_in, axis=1).reshape(-1, 1)\n",
    "    return exp_design_in, exp_design_out\n",
    "\n",
    "def test_sensitivity_adaptive_pce():\n",
    "    num_samples = 100\n",
    "    num_inputs = 2\n",
    "    exp_design_in, exp_design_out = generate_test_data(num_samples, num_inputs)\n",
    "\n",
    "    pce = PolynomialChaosExpansionUQPY(\n",
    "        pdf=None,\n",
    "        exp_design_in=exp_design_in,\n",
    "        exp_design_out=exp_design_out,\n",
    "        degree=4\n",
    "    )\n",
    "\n",
    "    pce.print_design_matrix()\n",
    "    print(\"\\nPodmíněnost matice:\", pce.get_condition_number())\n",
    "    print(\"\\nStřední hodnota PCE (automaticky):\", pce.compute_mean())\n",
    "    print(\"\\nRozptyl PCE:\", pce.compute_variance())\n",
    "    print(\"\\nPrvní Sobolovy indexy:\", pce.compute_sobol_first())\n",
    "    print(\"\\nCelkové Sobolovy indexy:\", pce.compute_sobol_total())\n",
    "   \n",
    "    test_inputs = exp_design_in[:5]  \n",
    "    predictions = pce.predict(test_inputs)\n",
    "    true_outputs = np.sum(test_inputs, axis=1).reshape(-1, 1)\n",
    "\n",
    "    print(\"\\nPorovnání skutečných a predikovaných hodnot:\")\n",
    "    for i in range(len(test_inputs)):\n",
    "        print(f\"Vstupy: {test_inputs[i]}, Skutečná hodnota: {true_outputs[i][0]}, Predikovaná hodnota: {predictions[i][0]}\")\n",
    "    print(\"\\nPROGRAM PROŠEL celý.\")\n",
    "\n",
    "if __name__ == \"__main__\":\n",
    "    test_sensitivity_adaptive_pce()"
   ]
  },
  {
   "cell_type": "code",
   "execution_count": null,
   "id": "47e2a310-3fca-472c-b044-c8c3ac14a963",
   "metadata": {},
   "outputs": [],
   "source": []
  },
  {
   "cell_type": "code",
   "execution_count": null,
   "id": "a7df605e-3097-4632-ae41-5ca4f10f7986",
   "metadata": {},
   "outputs": [],
   "source": []
  },
  {
   "cell_type": "code",
   "execution_count": null,
   "id": "ff0390a8-0b58-4e3e-93ac-241fb0e3829b",
   "metadata": {},
   "outputs": [],
   "source": []
  },
  {
   "cell_type": "code",
   "execution_count": null,
   "id": "7ae239e7-1acb-4feb-bf2c-fe9bfa6137a0",
   "metadata": {},
   "outputs": [],
   "source": []
  }
 ],
 "metadata": {
  "kernelspec": {
   "display_name": "Python [conda env:base] *",
   "language": "python",
   "name": "conda-base-py"
  },
  "language_info": {
   "codemirror_mode": {
    "name": "ipython",
    "version": 3
   },
   "file_extension": ".py",
   "mimetype": "text/x-python",
   "name": "python",
   "nbconvert_exporter": "python",
   "pygments_lexer": "ipython3",
   "version": "3.12.7"
  }
 },
 "nbformat": 4,
 "nbformat_minor": 5
}
